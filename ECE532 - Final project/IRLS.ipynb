{
 "cells": [
  {
   "cell_type": "code",
   "execution_count": 83,
   "metadata": {},
   "outputs": [],
   "source": [
    "import numpy as np\n",
    "import scipy.linalg as sl\n",
    "import time\n",
    "from scipy.io import loadmat"
   ]
  },
  {
   "cell_type": "markdown",
   "metadata": {},
   "source": [
    "## Q2 a)\n",
    "---"
   ]
  },
  {
   "cell_type": "code",
   "execution_count": 72,
   "metadata": {},
   "outputs": [],
   "source": [
    "def IRLS_M(Y, q, gamma):\n",
    "    n,p = Y.shape\n",
    "    epsilon = 1; # regularizing sequence\n",
    "    \n",
    "    tol = 10**(-6)  # difference between iterates at termination\n",
    "    err = 10**6 \n",
    "    \n",
    "    X = np.array(Y) # make a copy so operations do not mutate the original\n",
    "    X[np.isnan(X)] = 0 # Fill in missing entries with zeros\n",
    "    matrices = []\n",
    "    for i in range(p):\n",
    "        s = np.zeros(n)\n",
    "        for j in range(n):\n",
    "            if X[j, i] == 0: s[j] = 1\n",
    "        matrix = np.diag(s)\n",
    "        matrices.append(matrix)\n",
    "        \n",
    "    U,s,VT = np.linalg.svd(X, full_matrices=True)\n",
    "    epsilon_new = min(epsilon, gamma * s[q]) \n",
    "    for i in range(q, n):\n",
    "        s[i] = max(epsilon_new, s[i]);\n",
    "    W = U @ np.diag(s**(-1)) @ U.T\n",
    "    \n",
    "    k = 0\n",
    "    while err > tol:\n",
    "        Xnew = np.zeros((n,0))\n",
    "        for i in range(p):\n",
    "            A = matrices[i]\n",
    "            Xnew = np.column_stack((Xnew, X[:,i] - A @ np.linalg.pinv(A.T @ W @ A) @ A.T @ W @ X[:,i]))\n",
    "        \n",
    "        U,s,VT = np.linalg.svd(Xnew, full_matrices=True)\n",
    "        epsilon_new = min(epsilon, gamma * s[q]) \n",
    "        for i in range(q, n):\n",
    "            s[i] = max(epsilon_new, s[i]);\n",
    "        # TODO: update W\n",
    "        # W = \n",
    "        \n",
    "        err = np.linalg.norm(X - Xnew,'fro')\n",
    "        epsilon = epsilon_new\n",
    "        X = Xnew\n",
    "        k = k + 1\n",
    "    return (X, k)"
   ]
  },
  {
   "cell_type": "code",
   "execution_count": 37,
   "metadata": {},
   "outputs": [],
   "source": [
    "Xtrue = loadmat(\"incomplete.mat\")[\"Xtrue\"]\n",
    "Y1 = loadmat(\"incomplete.mat\")[\"Y1\"]\n",
    "Y2 = loadmat(\"incomplete.mat\")[\"Y2\"]\n",
    "Y3 = loadmat(\"incomplete.mat\")[\"Y3\"]"
   ]
  },
  {
   "cell_type": "code",
   "execution_count": 38,
   "metadata": {},
   "outputs": [
    {
     "name": "stdout",
     "output_type": "stream",
     "text": [
      "[[30 12 24  8 12 14 12 12 22 24 14 10 14 24 20 12]\n",
      " [30 21 15 11 21 26 12 21 10 15 17 16  8 15 23 12]\n",
      " [15  9  9  5  9 11  6  9  7  9  8  7  5  9 11  6]\n",
      " [35 16 26 10 16 19 14 16 23 26 17 13 15 26 24 14]\n",
      " [15  9  9  5  9 11  6  9  7  9  8  7  5  9 11  6]\n",
      " [25 11 19  7 11 13 10 11 17 19 12  9 11 19 17 10]\n",
      " [45 24 30 14 24 29 18 24 25 30 23 19 17 30 32 18]\n",
      " [30 15 21  9 15 18 12 15 18 21 15 12 12 21 21 12]\n",
      " [25 11 19  7 11 13 10 11 17 19 12  9 11 19 17 10]\n",
      " [20 13 11  7 13 16  8 13  8 11 11 10  6 11 15  8]\n",
      " [45 24 30 14 24 29 18 24 25 30 23 19 17 30 32 18]\n",
      " [30 15 21  9 15 18 12 15 18 21 15 12 12 21 21 12]\n",
      " [25 17 13  9 17 21 10 17  9 13 14 13  7 13 19 10]\n",
      " [40 20 28 12 20 24 16 20 24 28 20 16 16 28 28 16]\n",
      " [30 18 18 10 18 22 12 18 14 18 16 14 10 18 22 12]\n",
      " [25 11 19  7 11 13 10 11 17 19 12  9 11 19 17 10]]\n"
     ]
    }
   ],
   "source": [
    "print(Xtrue.astype(int))"
   ]
  },
  {
   "cell_type": "markdown",
   "metadata": {},
   "source": [
    "## Q2 b)\n",
    "---"
   ]
  },
  {
   "cell_type": "code",
   "execution_count": 39,
   "metadata": {},
   "outputs": [
    {
     "name": "stdout",
     "output_type": "stream",
     "text": [
      "X1\n",
      "[[29 11 24  8 12 14 11 13 22 23 13 10 14 24 19 11]\n",
      " [29 21 15 10 19 23 11 13 11 15 17 14  8 15 23 11]\n",
      " [14  8  9  4  9 10  5  7  7  9  8  6  5  8 10  6]\n",
      " [34 16 25 10 16 19 13 16 23 25 17 13 14 26 24 13]\n",
      " [14  9  9  4  8 10  5  6  7  9  8  6  5  9 11  5]\n",
      " [24 11 19  7 10 13 10 11 16 19 11  9 11 19 16  9]\n",
      " [45 23 29 13 23 28 18 21 25 29 22 19 17 30 32 17]\n",
      " [29 14 21  9 15 18 11 15 18 20 15 11 12 21 20 12]\n",
      " [24 11 18  7 10 13 10 11 17 19 11  9 10 19 16  9]\n",
      " [19 13 10  7 12 16  7  9  8 11 11  9  5 10 15  8]\n",
      " [45 24 30 14 24 29 18 21 25 29 23 18 16 29 32 18]\n",
      " [29 15 20  9 14 18 12 15 18 21 15 12 12 21 21 12]\n",
      " [25 16 13  8 17 19 10 11  9 13 14 13  7 13 19 10]\n",
      " [38 20 26 12 19 23 16 18 23 26 19 15 16 26 28 16]\n",
      " [29 17 18 10 17 22 12 14 14 17 16 13 10 17 21 11]\n",
      " [25 11 19  7 11 13  9 11 16 18 11  9 11 18 17  9]]\n",
      "Error: 12.6938091154\n"
     ]
    }
   ],
   "source": [
    "X1, k = IRLS_M(Y1, 3, 1)\n",
    "print('X1')\n",
    "print(X1.astype(int))\n",
    "print('Error:', np.linalg.norm((Xtrue - X1), 'fro'))\n",
    "#print((Xtrue - X1).astype(int))"
   ]
  },
  {
   "cell_type": "code",
   "execution_count": 40,
   "metadata": {},
   "outputs": [
    {
     "name": "stdout",
     "output_type": "stream",
     "text": [
      "X2\n",
      "[[30 12 24  8 12 14 12 12 22 23 13 10 14 24 20 11]\n",
      " [30 21 15 11 21 25 12 21 10 15 17 15  8 15 23 11]\n",
      " [14  9  8  4  9 10  5  8  7  9  8  7  5  8 11  6]\n",
      " [35 16 25 10 16 19 13 16 23 25 17 13 15 26 24 13]\n",
      " [14  9  9  5  8 10  5  8  7  9  8  6  5  9 11  5]\n",
      " [24 11 19  7 10 13 10 11 17 19 12  9 11 19 17  9]\n",
      " [45 24 30 13 23 29 18 23 25 30 22 19 17 30 32 17]\n",
      " [29 14 21  8 15 18 12 15 18 21 15 12 12 21 21 12]\n",
      " [25 11 18  7 11 13 10 11 17 19 12  9 10 19 16  9]\n",
      " [19 13 11  7 13 16  8 12  8 11 11  9  6 11 15  8]\n",
      " [45 24 30 14 24 29 18 24 25 30 23 19 17 29 32 18]\n",
      " [29 15 21  9 14 18 12 15 18 21 15 12 11 21 21 12]\n",
      " [25 16 13  9 17 20 10 17  9 13 14 13  7 13 19 10]\n",
      " [40 20 28 12 20 24 16 20 23 27 19 16 16 27 28 16]\n",
      " [29 17 18 10 18 22 12 17 14 17 16 14 10 17 22 12]\n",
      " [25 11 19  7 11 13 10 11 16 18 11  9 11 19 17  9]]\n",
      "Error: 6.7025892164e-06\n"
     ]
    }
   ],
   "source": [
    "X2, k = IRLS_M(Y2, 3, 1)\n",
    "print('X2')\n",
    "print(X2.astype(int))\n",
    "print('Error:', np.linalg.norm((Xtrue - X2), 'fro'))\n",
    "#print((Xtrue - X2).astype(int))"
   ]
  },
  {
   "cell_type": "code",
   "execution_count": 41,
   "metadata": {},
   "outputs": [
    {
     "name": "stdout",
     "output_type": "stream",
     "text": [
      "X3\n",
      "[[30 12 24  8 12 14 12 12 22 24 13 10 14 24 20 12]\n",
      " [30 21 15 11 21 26 12 21 10 15 17 15  8 15 23 12]\n",
      " [14  9  9  5  9 11  6  9  7  9  8  7  5  9 11  6]\n",
      " [35 16 25 10 16 19 13 16 23 26 17 13 15 26 24 14]\n",
      " [15  9  9  5  9 11  5  9  7  9  8  6  5  9 11  6]\n",
      " [24 11 19  7 11 13 10 11 17 19 12  9 11 19 17 10]\n",
      " [45 24 30 14 24 29 18 24 25 30 23 19 17 30 32 18]\n",
      " [30 14 21  9 15 18 12 15 18 21 15 12 12 21 21 12]\n",
      " [25 11 19  7 11 13 10 11 17 19 12  9 11 19 17 10]\n",
      " [19 13 11  7 13 16  8 13  8 11 11 10  6 11 15  8]\n",
      " [45 24 30 14 24 29 18 24 25 30 23 19 17 30 32 18]\n",
      " [30 15 21  9 15 18 12 15 18 21 15 12 12 21 21 12]\n",
      " [25 17 13  9 17 21 10 17  9 13 14 13  7 13 19 10]\n",
      " [40 20 28 12 20 24 16 20 23 28 20 16 16 28 28 16]\n",
      " [30 17 18 10 18 22 12 18 14 18 16 14 10 18 22 12]\n",
      " [25 11 19  7 11 13 10 11 17 19 12  9 11 19 17  9]]\n",
      "Error: 3.42885482511e-07\n"
     ]
    }
   ],
   "source": [
    "X3, k = IRLS_M(Y3, 3, 1)\n",
    "print('X3')\n",
    "print(X3.astype(int))\n",
    "print('Error:', np.linalg.norm((Xtrue - X3), 'fro'))\n",
    "#print((Xtrue - X3).astype(int))"
   ]
  },
  {
   "cell_type": "markdown",
   "metadata": {},
   "source": [
    "## Q2 c)\n",
    "---"
   ]
  },
  {
   "cell_type": "code",
   "execution_count": 42,
   "metadata": {},
   "outputs": [
    {
     "name": "stdout",
     "output_type": "stream",
     "text": [
      "Gamma = 3 , Error: 12.6938091154\n",
      "Gamma = 2 , Error: 12.6938091154\n",
      "Gamma = 1 , Error: 12.6938091154\n",
      "Gamma = 0.5 , Error: 12.1753757731\n",
      "Gamma = 0.1 , Error: 11.8730828699\n",
      "Gamma = 0.01 , Error: 11.8643645163\n"
     ]
    }
   ],
   "source": [
    "gamma = [3, 2, 1, 0.5, 0.1, 0.01]\n",
    "for i in gamma:\n",
    "    X1, k = IRLS_M(Y1, 3, i)\n",
    "    print(\"Gamma =\", i, \", Error:\", np.linalg.norm((Xtrue - X1), 'fro'))"
   ]
  },
  {
   "cell_type": "markdown",
   "metadata": {},
   "source": [
    "## Q3\n",
    "---"
   ]
  },
  {
   "cell_type": "code",
   "execution_count": 63,
   "metadata": {},
   "outputs": [],
   "source": [
    "### DO NOT change\n",
    "def ItSingValThresh(Y, r):\n",
    "    \"\"\"\n",
    "    Iterative Singular Value Thresholding function for Matrix Completion\n",
    "    Assumes elements of Y are integers between 0 and 10^6\n",
    "    \"\"\"\n",
    "    tol = 10**(-6)  # difference between iterates at termination\n",
    "    n,p = Y.shape \n",
    "    X = np.array(Y) #make a copy so operations do not mutate the original\n",
    "    X[np.isnan(X)] = 0 # Fill in missing entries with zeros\n",
    "\n",
    "    err = 10**6 \n",
    "    k = 0\n",
    "    while err > tol:\n",
    "        U,s,VT = np.linalg.svd(X, full_matrices=False)\n",
    "        V = VT.T ; S = np.diag(s)\n",
    "        Xnew = (U[:,:r] @ S[:r,:r] @ V[:,:r].T).round()\n",
    "        for i in range(n):\n",
    "            for j in range(p):\n",
    "                if Y[i,j] < 10**6 and Y[i,j] > 0:\n",
    "                    Xnew[i,j] = Y[i,j]\n",
    "        err = np.linalg.norm(X-Xnew,'fro') \n",
    "        X = Xnew\n",
    "        k = k + 1\n",
    "    return (X, k)"
   ]
  },
  {
   "cell_type": "code",
   "execution_count": 87,
   "metadata": {},
   "outputs": [
    {
     "name": "stdout",
     "output_type": "stream",
     "text": [
      "(200, 200)\n"
     ]
    }
   ],
   "source": [
    "Xtrue = np.loadtxt(open(\"Xtrue.txt\", \"rb\"), delimiter=\" \")\n",
    "Y = np.loadtxt(open(\"Y.txt\", \"rb\"), delimiter=\" \")"
   ]
  },
  {
   "cell_type": "code",
   "execution_count": 90,
   "metadata": {},
   "outputs": [
    {
     "name": "stdout",
     "output_type": "stream",
     "text": [
      "0\n",
      "1\n",
      "2\n",
      "3\n",
      "4\n",
      "5\n",
      "6\n",
      "7\n",
      "8\n",
      "9\n",
      "10\n",
      "11\n",
      "12\n",
      "13\n",
      "14\n",
      "15\n",
      "16\n",
      "17\n",
      "18\n",
      "19\n",
      "20\n",
      "21\n",
      "22\n",
      "23\n",
      "24\n",
      "25\n",
      "26\n",
      "27\n",
      "28\n",
      "29\n",
      "30\n",
      "31\n",
      "32\n",
      "33\n",
      "34\n",
      "35\n",
      "36\n",
      "Running time: 104.54964399337769\n",
      "#Iter: 37\n",
      "Error: 4.86705635669e-07\n"
     ]
    }
   ],
   "source": [
    "start = time.time()\n",
    "X, k = IRLS_M(Y, 5, 1)\n",
    "end = time.time()\n",
    "print('Running time:', end - start)\n",
    "print('#Iter:', k)\n",
    "print('Error:', np.linalg.norm((Xtrue - X), 'fro'))"
   ]
  },
  {
   "cell_type": "code",
   "execution_count": 91,
   "metadata": {},
   "outputs": [
    {
     "name": "stdout",
     "output_type": "stream",
     "text": [
      "Running time: 0.9156858921051025\n",
      "#Iter: 10\n",
      "Error: 0.0\n"
     ]
    }
   ],
   "source": [
    "start = time.time()\n",
    "X, k = ItSingValThresh(Y, 5)\n",
    "end = time.time()\n",
    "print('Running time:', end - start)\n",
    "print('#Iter:', k)\n",
    "print('Error:', np.linalg.norm((Xtrue - X), 'fro'))"
   ]
  },
  {
   "cell_type": "code",
   "execution_count": null,
   "metadata": {},
   "outputs": [],
   "source": []
  }
 ],
 "metadata": {
  "kernelspec": {
   "display_name": "Python 3",
   "language": "python",
   "name": "python3"
  },
  "language_info": {
   "codemirror_mode": {
    "name": "ipython",
    "version": 3
   },
   "file_extension": ".py",
   "mimetype": "text/x-python",
   "name": "python",
   "nbconvert_exporter": "python",
   "pygments_lexer": "ipython3",
   "version": "3.6.6"
  }
 },
 "nbformat": 4,
 "nbformat_minor": 4
}
